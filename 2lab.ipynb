{
  "nbformat": 4,
  "nbformat_minor": 0,
  "metadata": {
    "colab": {
      "provenance": [],
      "mount_file_id": "1sKq0oaCQmjBm9ywhsRNR-1W5C33nM3TK",
      "authorship_tag": "ABX9TyOK9EGM6H7Cd80U32gd7DoG",
      "include_colab_link": true
    },
    "kernelspec": {
      "name": "python3",
      "display_name": "Python 3"
    },
    "language_info": {
      "name": "python"
    },
    "accelerator": "GPU",
    "gpuClass": "standard"
  },
  "cells": [
    {
      "cell_type": "markdown",
      "metadata": {
        "id": "view-in-github",
        "colab_type": "text"
      },
      "source": [
        "<a href=\"https://colab.research.google.com/github/EmilijaSvirsk/DeepLearning-CustomModel/blob/main/2lab.ipynb\" target=\"_parent\"><img src=\"https://colab.research.google.com/assets/colab-badge.svg\" alt=\"Open In Colab\"/></a>"
      ]
    },
    {
      "cell_type": "markdown",
      "source": [
        "2 lab ;\n",
        "Emilija Svirskytė 2gr ;\n",
        "klasės - bee, ice cream, mushroom"
      ],
      "metadata": {
        "id": "jAmHTKS4yQZ0"
      }
    },
    {
      "cell_type": "markdown",
      "source": [
        "#Antras laboratorinis\n",
        "Antroje užduotyje reikia realizuoti vaizdų klasifikavimo modelį. Atsiskaitinėjant pratybų dėstytojas atsiųs testinių vaizdų, su kuriais turėsite pademonstruoti, kaip jūsų realizuotas modelis veikia. Atsiskaitymo metu, turėsite gebėti papasakoti, kaip realizuotas, jūsų modelis. Programinės įrangos sprendimą galite naudoti savo nuožiūra.\n",
        "\n",
        "*   Klasės pasirenkamos savo nuožiūra, tačiau jų turi būti bent 3.\n",
        "*   Duomenų rinkinys turi būti padalintas į mokymo ir testavimo aibes.\n",
        "*   Su testavimo duomenų aibe reikia paskaičiuoti šias metrikas: klasifikavimo matrica (angl. confusion matrix), tikslumas, precizija, atkūrimas ir F1.\n",
        "\n",
        "Duomenų klasėms parinktos iš OpenImages V6 objektų aptikimo uždavinio duomenų rinkinio."
      ],
      "metadata": {
        "id": "9AVN8shiPkiI"
      }
    },
    {
      "cell_type": "code",
      "source": [
        "from datetime import datetime\n",
        "import numpy as np\n",
        "import torch\n",
        "import torchvision\n",
        "import torchvision.transforms as transforms\n",
        "import matplotlib.pyplot as plt\n",
        "import pandas as pd\n",
        "from sklearn.metrics import confusion_matrix\n",
        "\n",
        "device = torch.device('cuda:0' if torch.cuda.is_available() else 'cpu')\n",
        "print(f'Device: {device}')"
      ],
      "metadata": {
        "colab": {
          "base_uri": "https://localhost:8080/"
        },
        "id": "ElMngzNVZO_v",
        "outputId": "c1592b50-f83d-49eb-c90b-4de3d0be3f79"
      },
      "execution_count": null,
      "outputs": [
        {
          "output_type": "stream",
          "name": "stdout",
          "text": [
            "Device: cuda:0\n"
          ]
        }
      ]
    },
    {
      "cell_type": "markdown",
      "source": [
        "##Transformacijos"
      ],
      "metadata": {
        "id": "6UtK62KUVM5L"
      }
    },
    {
      "cell_type": "code",
      "source": [
        "#validavimo transformacijos\n",
        "transforms_valid = transforms.Compose([\n",
        "        transforms.Resize((224, 224)),\n",
        "        transforms.ToTensor(),\n",
        "        transforms.Normalize(mean=[0.485, 0.456, 0.406],\n",
        "                         std=[0.229, 0.224, 0.225])\n",
        "])"
      ],
      "metadata": {
        "id": "thTOw45BVZ8l"
      },
      "execution_count": null,
      "outputs": []
    },
    {
      "cell_type": "code",
      "source": [
        "#treneravimo transformacijos\n",
        "transforms_train = transforms.Compose([\n",
        "    transforms.RandomRotation(20),\n",
        "    transforms.Resize((224, 224)),\n",
        "    transforms.ColorJitter(brightness = 0.4, saturation = 0.1, hue = 0.1),\n",
        "    transforms.RandomHorizontalFlip(),\n",
        "    transforms.ToTensor(),\n",
        "    transforms.Normalize(mean=[0.485, 0.456, 0.406],\n",
        "                         std=[0.229, 0.224, 0.225])\n",
        "])"
      ],
      "metadata": {
        "id": "18pVKzN_VR_9"
      },
      "execution_count": null,
      "outputs": []
    },
    {
      "cell_type": "markdown",
      "source": [
        "##Datasets"
      ],
      "metadata": {
        "id": "9CEYXWg6VvE-"
      }
    },
    {
      "cell_type": "code",
      "execution_count": null,
      "metadata": {
        "colab": {
          "base_uri": "https://localhost:8080/"
        },
        "id": "Q9IDWq61Pctw",
        "outputId": "b81f090b-5fd5-4e4b-9ada-2cdca70e652c"
      },
      "outputs": [
        {
          "output_type": "stream",
          "name": "stdout",
          "text": [
            "Train: 150, Test: 150\n"
          ]
        }
      ],
      "source": [
        "#sukuriam databases\n",
        "data_dir_train = \"drive/MyDrive/GMM_images/train/data\"\n",
        "data_dir_valid = \"drive/MyDrive/GMM_images/valid/data\"\n",
        "\n",
        "train_dataset = torchvision.datasets.ImageFolder(data_dir_train, transform = transforms_train)\n",
        "valid_dataset = torchvision.datasets.ImageFolder(data_dir_valid, transform = transforms_valid)\n",
        "\n",
        "num_workers = 2\n",
        "batch_size = 25\n",
        "\n",
        "train_loader = torch.utils.data.DataLoader(train_dataset, batch_size = batch_size, num_workers = num_workers, shuffle = True)\n",
        "valid_loader = torch.utils.data.DataLoader(valid_dataset, batch_size = batch_size, num_workers = num_workers, shuffle = False)\n",
        "\n",
        "print(f'Train: {len(train_dataset)}, Test: {len(valid_dataset)}')"
      ]
    },
    {
      "cell_type": "markdown",
      "source": [
        "##Modelis"
      ],
      "metadata": {
        "id": "5tRPNomYVyE5"
      }
    },
    {
      "cell_type": "code",
      "source": [
        "class ConvNet(torch.nn.Module):\n",
        "    def __init__(self, input_shape, num_classes):\n",
        "        super(ConvNet, self).__init__()\n",
        "        self.num_classes = num_classes\n",
        "\n",
        "        # 3 input image channels, 6 output channels, 3x3 square convolution\n",
        "        self.conv1 = torch.nn.Conv2d(input_shape[0], 6, 3,padding = 'same')\n",
        "        self.conv2 = torch.nn.Conv2d(6, 16, 3,padding = 'same')\n",
        "\n",
        "        self.dropout1 = torch.nn.Dropout(0.25)\n",
        "        self.dropout2 = torch.nn.Dropout(0.5)\n",
        "\n",
        "        # an affine operation: y = Wx + b\n",
        "        self.fc1 = torch.nn.Linear(16*(input_shape[1] // 4) * (input_shape[2] // 4), 120)\n",
        "        self.fc2 = torch.nn.Linear(120, num_classes)\n",
        "\n",
        "    def forward(self, x):\n",
        "        # Max pooling over a (2, 2) window\n",
        "        #conv + pool\n",
        "        x = torch.nn.functional.max_pool2d(torch.nn.functional.relu(self.conv1(x)), 2)\n",
        "        x = torch.nn.functional.max_pool2d(torch.nn.functional.relu(self.conv2(x)), 2)\n",
        "\n",
        "        x = torch.flatten(x, 1) # flatten all dimensions except the batch dimension\n",
        "\n",
        "        x = self.dropout1(x)\n",
        "        x = torch.nn.functional.relu(self.fc1(x))\n",
        "        x = self.dropout2(x)\n",
        "        x = self.fc2(x)\n",
        "        return x"
      ],
      "metadata": {
        "id": "g3dHVl61QUy7"
      },
      "execution_count": null,
      "outputs": []
    },
    {
      "cell_type": "code",
      "source": [
        "model = ConvNet(train_dataset[0][0].shape, 3).to(device)\n",
        "print(model)"
      ],
      "metadata": {
        "colab": {
          "base_uri": "https://localhost:8080/"
        },
        "id": "-SV5_yEGq5Zo",
        "outputId": "d73ca7a5-8fee-4141-f80d-f9b9b537a5a0"
      },
      "execution_count": null,
      "outputs": [
        {
          "output_type": "stream",
          "name": "stdout",
          "text": [
            "ConvNet(\n",
            "  (conv1): Conv2d(3, 6, kernel_size=(3, 3), stride=(1, 1), padding=same)\n",
            "  (conv2): Conv2d(6, 16, kernel_size=(3, 3), stride=(1, 1), padding=same)\n",
            "  (dropout1): Dropout(p=0.25, inplace=False)\n",
            "  (dropout2): Dropout(p=0.5, inplace=False)\n",
            "  (fc1): Linear(in_features=50176, out_features=120, bias=True)\n",
            "  (fc2): Linear(in_features=120, out_features=3, bias=True)\n",
            ")\n"
          ]
        }
      ]
    },
    {
      "cell_type": "markdown",
      "source": [
        "##Mokymo ir testavimo funkcijos"
      ],
      "metadata": {
        "id": "ThNLA-kmWFui"
      }
    },
    {
      "cell_type": "markdown",
      "source": [
        "Su testavimo duomenų aibe reikia paskaičiuoti šias metrikas: klasifikavimo matrica (angl. confusion matrix), tikslumas, precizija, atkūrimas ir F1."
      ],
      "metadata": {
        "id": "MgJIMGg04L2Y"
      }
    },
    {
      "cell_type": "code",
      "source": [
        "class Statistics():\n",
        "  def __init__(self):\n",
        "    self.classes = ['bee','ice cream','mushroom']\n",
        "    self.pred_arr = []\n",
        "    self.label_arr = []\n",
        "\n",
        "  def addResultsArray(self, label_arr, pred_arr):\n",
        "    self.pred_arr = np.concatenate((self.pred_arr,pred_arr), axis=None)\n",
        "    self.label_arr = np.concatenate((self.label_arr,label_arr), axis=None)\n",
        "\n",
        "  def getConfusionMatrixDataFrame(self):\n",
        "    return pd.DataFrame(confusion_matrix(self.label_arr,self.pred_arr),\n",
        "                     self.classes,\n",
        "                     self.classes)\n",
        "\n",
        "  def getClassConfusionMatrix(self, label):\n",
        "    TP = 0\n",
        "    TN = 0\n",
        "    FP = 0\n",
        "    FN = 0\n",
        "    for i in range(len(self.pred_arr)):\n",
        "      true_result = self.label_arr[i]\n",
        "      prob_result = self.pred_arr[i]\n",
        "      #TP obj exists and model found it\n",
        "      if((true_result==prob_result) and (prob_result==label)):\n",
        "        TP+=1\n",
        "      #TN obj doesnt exist and model didnt find it\n",
        "      elif((true_result!=prob_result) and (true_result!=label) and (prob_result!=label)):\n",
        "        TN+=1\n",
        "      #FP obj exists but model didnt find it\n",
        "      elif((true_result!=prob_result) and (true_result==label)):\n",
        "        FP+=1\n",
        "      #FN obj doesnt exist but model found it\n",
        "      elif((true_result!=prob_result) and (prob_result==label)):\n",
        "        FN+=1\n",
        "    return {\"TP\":TP,\"TN\":TN,\"FP\":FP,\"FN\":FN}\n",
        "\n",
        "  def getStatistics(self, matrix):\n",
        "    TP = matrix['TP']\n",
        "    TN = matrix['TN']\n",
        "    FP = matrix['FP']\n",
        "    FN = matrix['FN']\n",
        "    stats = {}\n",
        "\n",
        "    if((TP + FP + TN + FN)==0):\n",
        "      stats['accuracy'] = 0\n",
        "    else:\n",
        "      stats['accuracy'] = (TP + TN) / (TP + FP + TN + FN)\n",
        "    if((TP + FN)==0):\n",
        "      stats['recall'] = 0\n",
        "    else:\n",
        "      stats['recall'] = TP / (TP + FN)\n",
        "    if((TP + FP)==0):\n",
        "      stats['precision'] = 0\n",
        "    else:\n",
        "      stats['precision'] = TP / (TP + FP)\n",
        "    if((stats['precision'] + stats['recall'])==0):\n",
        "      stats['f1'] = 0\n",
        "    else:\n",
        "      stats['f1'] = 2 * (stats['precision'] * stats['recall']) / (stats['precision'] + stats['recall'])\n",
        "\n",
        "    return stats\n"
      ],
      "metadata": {
        "id": "DQaCdLcK3826"
      },
      "execution_count": null,
      "outputs": []
    },
    {
      "cell_type": "code",
      "source": [
        "def seconds_to_time(seconds):\n",
        "    s = int(seconds) % 60\n",
        "    m = int(seconds) // 60\n",
        "    if m < 1:\n",
        "        return f'{s}s'\n",
        "    h = m // 60\n",
        "    m = m % 60\n",
        "    if h < 1:\n",
        "        return f'{m}m{s}s'\n",
        "    return f'{h}h{m}m{s}s'"
      ],
      "metadata": {
        "id": "cXv0vml2ZtOp"
      },
      "execution_count": null,
      "outputs": []
    },
    {
      "cell_type": "code",
      "source": [
        "def train_epoch(optimizer, loss_func, model, loader):\n",
        "  num_classes = model.num_classes\n",
        "  #pakeiciam moda\n",
        "  model.train()\n",
        "  loss_acum = np.array([], dtype = np.float32)\n",
        "\n",
        "  for data in loader:\n",
        "    #duomenys\n",
        "    images = data[0].to(device)\n",
        "    #create label array\n",
        "    labels = torch.nn.functional.one_hot(data[1], num_classes).float().to(device)\n",
        "\n",
        "    pred = model(images)\n",
        "    loss = loss_func(pred, labels)\n",
        "    loss_acum = np.append(loss_acum, loss.cpu().detach().numpy())\n",
        "\n",
        "    loss.backward()\n",
        "    optimizer.step()\n",
        "    optimizer.zero_grad()\n",
        "\n",
        "  return np.mean(loss_acum)"
      ],
      "metadata": {
        "id": "K9CEgf2KRCFu"
      },
      "execution_count": null,
      "outputs": []
    },
    {
      "cell_type": "code",
      "source": [
        "def evaluate(model, loader):\n",
        "  #pakeiciam moda\n",
        "  model.eval()\n",
        "\n",
        "  correct_predictions = 0\n",
        "  total_predictions = 0\n",
        "\n",
        "  label_arr = []\n",
        "  pred_arr = []\n",
        "\n",
        "  for data in loader:\n",
        "    images = data[0].to(device)\n",
        "    labels = data[1].to(device)\n",
        "    #print(labels)\n",
        "\n",
        "    with torch.no_grad():\n",
        "      pred = model(images)\n",
        "\n",
        "    label_pred = torch.argmax(pred, axis = 1)\n",
        "\n",
        "    correct_predictions += torch.sum(labels == label_pred)\n",
        "    total_predictions += images.shape[0]\n",
        "\n",
        "    #statistics\n",
        "    label_arr.append(labels.cpu().numpy())\n",
        "    pred_arr.append(label_pred.cpu().numpy())\n",
        "\n",
        "  accuracy = correct_predictions / total_predictions\n",
        "  return accuracy, label_arr, pred_arr"
      ],
      "metadata": {
        "id": "YwvM_y1JUhfv"
      },
      "execution_count": null,
      "outputs": []
    },
    {
      "cell_type": "code",
      "source": [
        "def train_and_eval(model, loader_train, loader_valid, epoch_count = 21, lr = 1e-3):\n",
        "  #entropy and adam\n",
        "  loss_func = torch.nn.CrossEntropyLoss()\n",
        "  optimizer = torch.optim.Adam(model.parameters(), lr = lr)\n",
        "\n",
        "  start_time = datetime.now()\n",
        "\n",
        "  train_accuracy_acum = []\n",
        "  valid_accuracy_acum = []\n",
        "\n",
        "  for epoch in range(epoch_count):\n",
        "    loss = train_epoch(optimizer, loss_func, model, loader_train)\n",
        "\n",
        "    train_accuracy, label_arr_train, pred_arr_train  = evaluate(model, loader_train)\n",
        "    train_accuracy_acum.append(train_accuracy.cpu().numpy())\n",
        "    valid_accuracy, label_arr_valid, pred_arr_valid  = evaluate(model, loader_valid)\n",
        "    valid_accuracy_acum.append(valid_accuracy.cpu().numpy())\n",
        "\n",
        "    if epoch % 5 == 0:\n",
        "      current_time = datetime.now()\n",
        "      elapsed = seconds_to_time((current_time - start_time).total_seconds())\n",
        "      print(f'Epoch: {epoch}, Time: {elapsed}, Training loss: {loss}')\n",
        "      print(f'  Training accuracy: {torch.round(train_accuracy * 100)}, Validation accuracy: {torch.round(valid_accuracy * 100)}')\n",
        "\n",
        "  return train_accuracy_acum, valid_accuracy_acum"
      ],
      "metadata": {
        "id": "6wfgaEmfU9Vx"
      },
      "execution_count": null,
      "outputs": []
    },
    {
      "cell_type": "code",
      "source": [
        "def testing(model, loader, stats):\n",
        "  valid_accuracy, label_arr_valid, pred_arr_valid  = evaluate(model, loader)\n",
        "  stats.addResultsArray(label_arr_valid, pred_arr_valid)\n"
      ],
      "metadata": {
        "id": "W_3o4avmiYdb"
      },
      "execution_count": null,
      "outputs": []
    },
    {
      "cell_type": "markdown",
      "source": [
        "##Modelio treneravimas ir ivertinimas"
      ],
      "metadata": {
        "id": "xWI4q4QEZAY-"
      }
    },
    {
      "cell_type": "code",
      "source": [
        "def plot_accuracy(train_accuracy, valid_accuracy):\n",
        "  plt.clf()\n",
        "  plt.plot(train_accuracy, 'b', label = 'Training accuracy')\n",
        "  plt.plot(valid_accuracy, 'r', label = 'Validation accuracy')\n",
        "  plt.ylim(0.0, 1.0)\n",
        "  plt.legend()\n",
        "  plt.show()"
      ],
      "metadata": {
        "id": "gaPIQPNeVCMt"
      },
      "execution_count": null,
      "outputs": []
    },
    {
      "cell_type": "code",
      "source": [
        "model = ConvNet(train_dataset[0][0].shape, 3).to(device)\n",
        "print(f'Parameter count: {sum(p.numel() for p in model.parameters() if p.requires_grad):,}')\n",
        "\n",
        "train_acc, valid_acc = train_and_eval(model, train_loader, valid_loader)\n",
        "plot_accuracy(train_acc, valid_acc)"
      ],
      "metadata": {
        "colab": {
          "base_uri": "https://localhost:8080/",
          "height": 460
        },
        "id": "INZB274qY-8-",
        "outputId": "3e59ae14-f9b0-4bdc-9062-133792c67fda"
      },
      "execution_count": null,
      "outputs": [
        {
          "output_type": "stream",
          "name": "stdout",
          "text": [
            "Parameter count: 6,022,651\n",
            "Epoch: 0, Time: 11s, Training loss: 2.029587507247925\n",
            "  Training accuracy: 40.0, Validation accuracy: 32.0\n",
            "Epoch: 5, Time: 1m6s, Training loss: 1.0298324823379517\n",
            "  Training accuracy: 54.0, Validation accuracy: 59.0\n",
            "Epoch: 10, Time: 2m2s, Training loss: 0.9322444796562195\n",
            "  Training accuracy: 65.0, Validation accuracy: 59.0\n",
            "Epoch: 15, Time: 2m57s, Training loss: 0.7694645524024963\n",
            "  Training accuracy: 72.0, Validation accuracy: 63.0\n",
            "Epoch: 20, Time: 3m53s, Training loss: 0.7089090347290039\n",
            "  Training accuracy: 73.0, Validation accuracy: 55.0\n"
          ]
        },
        {
          "output_type": "display_data",
          "data": {
            "text/plain": [
              "<Figure size 432x288 with 1 Axes>"
            ],
            "image/png": "[encoded data removed]"
          },
          "metadata": {
            "needs_background": "light"
          }
        }
      ]
    },
    {
      "cell_type": "code",
      "source": [
        "stats = Statistics()\n",
        "testing(model, valid_loader, stats)\n",
        "\n",
        "print(stats.getConfusionMatrixDataFrame())\n",
        "\n",
        "#bee category\n",
        "print(\"\\nbee category:\")\n",
        "matrix = stats.getClassConfusionMatrix(0)\n",
        "print(matrix)\n",
        "statistics = stats.getStatistics(matrix)\n",
        "print(statistics)\n",
        "\n",
        "#ice cream category\n",
        "print(\"\\nice cream category:\")\n",
        "matrix = stats.getClassConfusionMatrix(1)\n",
        "print(matrix)\n",
        "statistics = stats.getStatistics(matrix)\n",
        "print(statistics)\n",
        "\n",
        "#mushroom category\n",
        "print(\"\\nmushroom category:\")\n",
        "matrix = stats.getClassConfusionMatrix(2)\n",
        "print(matrix)\n",
        "statistics = stats.getStatistics(matrix)\n",
        "print(statistics)"
      ],
      "metadata": {
        "colab": {
          "base_uri": "https://localhost:8080/"
        },
        "id": "O_V3KljhjKVl",
        "outputId": "9f5a9958-6f04-4596-976e-9af740561484"
      },
      "execution_count": null,
      "outputs": [
        {
          "output_type": "stream",
          "name": "stdout",
          "text": [
            "           bee  ice cream  mushroom\n",
            "bee         36          6         8\n",
            "ice cream   26         12        12\n",
            "mushroom    15          0        35\n",
            "\n",
            "bee category:\n",
            "{'TP': 36, 'TN': 12, 'FP': 14, 'FN': 41}\n",
            "{'accuracy': 0.46601941747572817, 'recall': 0.4675324675324675, 'precision': 0.72, 'f1': 0.5669291338582677}\n",
            "\n",
            "ice cream category:\n",
            "{'TP': 12, 'TN': 23, 'FP': 38, 'FN': 6}\n",
            "{'accuracy': 0.4430379746835443, 'recall': 0.6666666666666666, 'precision': 0.24, 'f1': 0.3529411764705882}\n",
            "\n",
            "mushroom category:\n",
            "{'TP': 35, 'TN': 32, 'FP': 15, 'FN': 20}\n",
            "{'accuracy': 0.6568627450980392, 'recall': 0.6363636363636364, 'precision': 0.7, 'f1': 0.6666666666666666}\n"
          ]
        }
      ]
    }
  ]
}